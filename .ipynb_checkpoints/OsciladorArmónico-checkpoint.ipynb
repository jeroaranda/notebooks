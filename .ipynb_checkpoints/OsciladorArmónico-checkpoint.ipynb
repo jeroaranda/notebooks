{
 "cells": [
  {
   "cell_type": "markdown",
   "metadata": {},
   "source": [
    "# Oscilador armónico con forzamientos periódico\n",
    "\n",
    "Basado en un notebook del profesor Victor Breña y actualizado para el proyecto final de la materia de sistemas dinámicos 2."
   ]
  },
  {
   "cell_type": "markdown",
   "metadata": {},
   "source": [
    "En este ejemplo caracterizamos el oscilador armónico forzado\n",
    "como el que se supone entró en resonancia para destruir el puente de Tacoma,\n",
    "aunque sabemos que esa explicación es incorrecta, en las gráficas se puede apreciar la resonancia:"
   ]
  },
  {
   "cell_type": "code",
   "execution_count": 1,
   "metadata": {},
   "outputs": [
    {
     "name": "stderr",
     "output_type": "stream",
     "text": [
      "┌ Info: Recompiling stale cache file /Users/jeroaranda/.julia/compiled/v1.0/DifferentialEquations/UQdwS.ji for DifferentialEquations [0c46a032-eb83-5123-abaf-570d42b7fbaa]\n",
      "└ @ Base loading.jl:1190\n",
      "┌ Warning: The call to compilecache failed to create a usable precompiled cache file for DifferentialEquations [0c46a032-eb83-5123-abaf-570d42b7fbaa]\n",
      "│   exception = ErrorException(\"Required dependency BlackBoxOptim [a134a8b2-14d6-55f6-9291-3336d3ab0209] failed to load from a cache file.\")\n",
      "└ @ Base loading.jl:969\n"
     ]
    }
   ],
   "source": [
    "#Se llaman los paquetes necesarios para resolver las ecuaciones y graficarlas.\n",
    "\n",
    "\n",
    "\n",
    "using DifferentialEquations\n",
    "using Plots\n",
    "using LaTeXStrings"
   ]
  },
  {
   "cell_type": "code",
   "execution_count": 2,
   "metadata": {},
   "outputs": [
    {
     "data": {
      "text/plain": [
       "CoupPend (generic function with 1 method)"
      ]
     },
     "execution_count": 2,
     "metadata": {},
     "output_type": "execute_result"
    }
   ],
   "source": [
    "# Definimos nuestro sistema de tal forma que se usa x''+ax'+bx+Fcos(w*t), \n",
    "#con los valores de las constantes como se explica en el documento\n",
    "#De tal forma que el sistema se encuentre en resonancia.\n",
    "#Si se habilita el último comentario en esta sección ejemplificamos un sistema que no solamente tiene\n",
    "#forzamientos periódicos si no que además estos aumentan linealmente con el tiempo. Esto podría representar el aumento\n",
    "#de la fuerza del viento, nos resulta extraño que esta se modele como un forzamiento periódico sin que tenga un \n",
    "#factor lineal.\n",
    "#Un sistema con estas características seguramente se destruirá pues la fuerza tiende a infinito.\n",
    "#En algún momento esta superaría la capacidad del sistema y este sería destruído.\n",
    "function CoupPend(du,u,p,t)\n",
    "    du[1] = u[2]\n",
    "    #du[2] = u[4]\n",
    "    du[2] = p[1]/p[2]*cos(sqrt(p[4]/p[2])*t) - p[3]/p[2]*(u[2]) -p[4]/p[2]*u[1]\n",
    "       # du[2] = p[1]/p[2]*t*cos(sqrt(p[4]/p[2])*t) - p[3]/p[2]*(u[2]) -p[4]/p[2]*u[1]\n",
    "\n",
    "\n",
    "end"
   ]
  },
  {
   "cell_type": "code",
   "execution_count": 3,
   "metadata": {},
   "outputs": [
    {
     "data": {
      "text/plain": [
       "\u001b[36mODEProblem\u001b[0m with uType \u001b[36mArray{Float64,1}\u001b[0m and tType \u001b[36mFloat64\u001b[0m. In-place: \u001b[36mtrue\u001b[0m\n",
       "timespan: (0.0, 1000.0)\n",
       "u0: [0.0, 0.0]"
      ]
     },
     "execution_count": 3,
     "metadata": {},
     "output_type": "execute_result"
    }
   ],
   "source": [
    "# Definimos condiciones iniciales\n",
    "u0    = [0,0.0]\n",
    "# Definimos el tiempo en el que queremos resolver nuestro sistema.\n",
    "tspan = (0.0,1000.0)\n",
    "# Definimos nuestros parámetros de tal forma que el sistema forzado se encuentre en resonancia.\n",
    "p     = [1000,10,1,.2]\n",
    "# Definimos nuestro problema de ecuaciones diferenciales.\n",
    "prob  = ODEProblem(CoupPend,u0,tspan,p)"
   ]
  },
  {
   "cell_type": "code",
   "execution_count": 4,
   "metadata": {},
   "outputs": [
    {
     "data": {
      "text/plain": [
       "retcode: Success\n",
       "Interpolation: 3rd order Hermite\n",
       "t: 190-element Array{Float64,1}:\n",
       "    0.0                  \n",
       "    9.999999999999999e-5 \n",
       "    0.0010999999999999998\n",
       "    0.011099999999999997 \n",
       "    0.08450329415705146  \n",
       "    0.315208488265434    \n",
       "    0.7843767366751183   \n",
       "    1.5303857916954904   \n",
       "    2.5567141475566277   \n",
       "    3.946391785153277    \n",
       "    5.732392799780126    \n",
       "    7.958852170327924    \n",
       "   10.600896000672506    \n",
       "    ⋮                    \n",
       "  938.3325162389788      \n",
       "  943.8806080100011      \n",
       "  949.5863394286887      \n",
       "  955.4455013544642      \n",
       "  961.2180917939243      \n",
       "  966.9096602557057      \n",
       "  972.4999887771792      \n",
       "  978.5637259496466      \n",
       "  984.1452416704175      \n",
       "  989.9711119923917      \n",
       "  995.42352563692        \n",
       " 1000.0                  \n",
       "u: 190-element Array{Array{Float64,1},1}:\n",
       " [0.0, 0.0]              \n",
       " [4.99998e-7, 0.00999995]\n",
       " [6.04978e-5, 0.109994]  \n",
       " [0.00615822, 1.10938]   \n",
       " [0.356028, 8.41432]     \n",
       " [4.9144, 31.0086]       \n",
       " [29.912, 75.1282]       \n",
       " [110.48, 139.654]       \n",
       " [294.116, 215.561]      \n",
       " [650.153, 291.411]      \n",
       " [1221.74, 339.086]      \n",
       " [1970.07, 318.706]      \n",
       " [2666.67, 192.19]       \n",
       " ⋮                       \n",
       " [4837.3, 729.189]       \n",
       " [7066.24, 32.7187]      \n",
       " [5054.73, -699.003]     \n",
       " [-226.611, -999.299]    \n",
       " [-5304.18, -661.084]    \n",
       " [-7045.93, 82.3687]     \n",
       " [-4542.05, 766.165]     \n",
       " [1125.55, 987.058]      \n",
       " [5747.63, 582.255]      \n",
       " [6925.74, -200.855]     \n",
       " [3976.79, -826.628]     \n",
       " [-352.001, -998.611]    "
      ]
     },
     "execution_count": 4,
     "metadata": {},
     "output_type": "execute_result"
    }
   ],
   "source": [
    "# Corremos las soluciones a partir de nuestro solver.\n",
    "sol    = solve(prob)"
   ]
  },
  {
   "cell_type": "code",
   "execution_count": null,
   "metadata": {},
   "outputs": [],
   "source": [
    "# Graficamos para x y x' con respecto al tiempo\n",
    "plot(sol,vars=(0,1),xlabel=L\"t\",ylabel=L\"\\theta\",label=L\"\\theta_1\",lw=2,layout=(1,1),size = (800, 600))\n",
    "plot!(sol,vars=(0,2),label=L\"\\theta_2\",lw=2)\n",
    "# Save figure\n",
    "#png(\"argdis.png\")"
   ]
  },
  {
   "cell_type": "code",
   "execution_count": null,
   "metadata": {},
   "outputs": [],
   "source": [
    "# En este ejemplo vemos el diagrama de x respecto a x'.\n",
    "plot(sol,vars=(1,2),xlabemel=L\"\\theta_1\", ylabel=L\"\\theta_2\",lw=2,label=\"\",layout=(1,1),size = (800, 600))\n",
    "plot!(sol[1:1,1:1],sol[2:2,1:1],m=:circle,ms=10,label=\"\",subplot=1,c=[3])\n",
    "plot!(sol[1:1,end:end],sol[2:2,end:end],m=:circle,ms=10,label=\"\",subplot=1,c=[2])\n",
    "#\n",
    "#plot!(sol,vars=(1,2),lw=2,xlabel=L\"\\varphi_1\", ylabel=L\"\\varphi_2\",label=\"\",subplot=2)\n",
    "\n",
    "#plot!(sol[2:2,1:1],sol[1:1,1:1],m=:circle,ms=10,label=\"\",subplot=2,c=[3])\n",
    "#plot!(sol[2:2,end:end],sol[1:1,end:end],m=:circle,ms=10,label=\"\",subplot=2,c=[2])\n",
    "#\n",
    "#plot!(sol,vars=(1,2),lw=2,xlabel=L\"\\theta_1\", ylabel=L\"\\varphi_1\",label=\"\",subplot=3)\n",
    "#plot!(sol[1:1,1:1],sol[2:2,1:1],m=:circle,ms=10,label=\"\",subplot=3,c=[3])\n",
    "#plot!(sol[1:1,end:end],sol[2:2,end:end],m=:circle,ms=10,label=\"\",subplot=3,c=[2])\n",
    "#\n",
    "#plot!(sol,vars=(2,4),lw=2,xlabel=L\"\\theta_2\", ylabel=L\"\\varphi_2\",label=\"\",subplot=4)\n",
    "#plot!(sol[2:2,1:1],sol[4:4,1:1],m=:circle,ms=10,label=\"\",subplot=4,c=[3])\n",
    "#plot!(sol[2:2,end:end],sol[4:4,end:end],m=:circle,ms=10,label=\"\",subplot=4,c=[2])\n",
    "# Save figure\n",
    "#png(\"phaseproj.png\")"
   ]
  },
  {
   "cell_type": "code",
   "execution_count": null,
   "metadata": {},
   "outputs": [],
   "source": []
  },
  {
   "cell_type": "code",
   "execution_count": null,
   "metadata": {},
   "outputs": [],
   "source": []
  },
  {
   "cell_type": "code",
   "execution_count": null,
   "metadata": {},
   "outputs": [],
   "source": []
  }
 ],
 "metadata": {
  "kernelspec": {
   "display_name": "Julia 1.0.2",
   "language": "julia",
   "name": "julia-1.0"
  },
  "language_info": {
   "file_extension": ".jl",
   "mimetype": "application/julia",
   "name": "julia",
   "version": "1.0.2"
  }
 },
 "nbformat": 4,
 "nbformat_minor": 2
}

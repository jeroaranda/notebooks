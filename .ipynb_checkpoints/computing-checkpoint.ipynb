{
 "cells": [
  {
   "cell_type": "code",
   "execution_count": 1,
   "metadata": {},
   "outputs": [],
   "source": [
    "import json"
   ]
  },
  {
   "cell_type": "markdown",
   "metadata": {},
   "source": [
    "# efficient indexing.\n",
    "#### Openning JSON file"
   ]
  },
  {
   "cell_type": "code",
   "execution_count": null,
   "metadata": {},
   "outputs": [],
   "source": [
    "with open('personasdesaparecidas.json','r',encoding='utf8') as f:\n",
    "    datastore=json.load(f)"
   ]
  },
  {
   "cell_type": "code",
   "execution_count": null,
   "metadata": {},
   "outputs": [],
   "source": [
    "def prints_products(list_in):\n",
    "    int mult=1\n",
    "    int num_zeros=0\n",
    "    int idx\n",
    "    \n",
    "    \n",
    "    for i in range(len(list_in)):\n",
    "        if(list_in[i]==0 and num_zeros==0):\n",
    "            \n",
    "            idx=i\n",
    "        elif(ist_in[i]==0 and num_zeros==1):\n",
    "            num_zeros+=1\n",
    "            break\n",
    "        else\n",
    "            mult*=list_in[i]\n",
    "            \n",
    "            \n",
    "    if(num_zeros==1):\n",
    "        for i in range(len(list_in)):\n",
    "            if i==idx:\n",
    "                print(mult)\n",
    "            else:\n",
    "                print('0')\n",
    "    elif(num_zeros=>2):\n",
    "        for i in range(len(list_in):\n",
    "            print('0')\n",
    "    else:   \n",
    "        for i in range(len(list_in)):\n",
    "            print(mult/list_in[i])"
   ]
  }
 ],
 "metadata": {
  "kernelspec": {
   "display_name": "Python 3",
   "language": "python",
   "name": "python3"
  },
  "language_info": {
   "codemirror_mode": {
    "name": "ipython",
    "version": 3
   },
   "file_extension": ".py",
   "mimetype": "text/x-python",
   "name": "python",
   "nbconvert_exporter": "python",
   "pygments_lexer": "ipython3",
   "version": "3.7.0"
  }
 },
 "nbformat": 4,
 "nbformat_minor": 2
}

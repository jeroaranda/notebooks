{
 "cells": [
  {
   "cell_type": "markdown",
   "metadata": {},
   "source": [
    "# Notebook on text"
   ]
  },
  {
   "cell_type": "code",
   "execution_count": 24,
   "metadata": {},
   "outputs": [],
   "source": [
    "def spanish_to_abi(text):\n",
    "    resultado=''\n",
    "    for letter in text:\n",
    "        print(letter)\n",
    "        if letter in ['a','e','i','o','u']:\n",
    "            resultado+=\"ab\"\n",
    "        resultado+=letter\n",
    "    print(resultado)"
   ]
  },
  {
   "cell_type": "code",
   "execution_count": 25,
   "metadata": {},
   "outputs": [
    {
     "name": "stdout",
     "output_type": "stream",
     "text": [
      "c\n",
      "a\n",
      "l\n",
      "l\n",
      "e\n",
      "s\n",
      "e\n",
      " \n",
      "v\n",
      "i\n",
      "e\n",
      "j\n",
      "o\n",
      " \n",
      "l\n",
      "e\n",
      "s\n",
      "b\n",
      "i\n",
      "a\n",
      "n\n",
      "o\n",
      "caballabesabe vabiabejabo labesbabiabanabo\n"
     ]
    }
   ],
   "source": [
    "spanish_to_abi('callese viejo lesbiano')"
   ]
  },
  {
   "cell_type": "code",
   "execution_count": null,
   "metadata": {},
   "outputs": [],
   "source": []
  }
 ],
 "metadata": {
  "kernelspec": {
   "display_name": "Python 3",
   "language": "python",
   "name": "python3"
  },
  "language_info": {
   "codemirror_mode": {
    "name": "ipython",
    "version": 3
   },
   "file_extension": ".py",
   "mimetype": "text/x-python",
   "name": "python",
   "nbconvert_exporter": "python",
   "pygments_lexer": "ipython3",
   "version": "3.7.0"
  }
 },
 "nbformat": 4,
 "nbformat_minor": 2
}

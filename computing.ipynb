{
 "cells": [
  {
   "cell_type": "code",
   "execution_count": 1,
   "metadata": {},
   "outputs": [],
   "source": [
    "import json"
   ]
  },
  {
   "cell_type": "markdown",
   "metadata": {},
   "source": [
    "# Computing\n",
    "\n",
    "Its all about algorithms and data structures. Some problems are from google tech dev guide, some from interviews and elsewere."
   ]
  },
  {
   "cell_type": "markdown",
   "metadata": {},
   "source": [
    "## Decompress a compressed string\n",
    "\n",
    "print a codified String of the form `number[String]*`, where String can again be equal to `number[String]*`.\n",
    "\n",
    "Code snippet was for python2.X so had to change `xrange` for `range`, do some indentation and change `basestring` to `str`.\n",
    "\n",
    "Learnt `yield` reserved word and `sys.stdout.write()`."
   ]
  },
  {
   "cell_type": "code",
   "execution_count": 40,
   "metadata": {},
   "outputs": [],
   "source": [
    "#!/usr/bin/env python\n",
    "import sys\n",
    "def decomp(text, start=0, times=1):\n",
    "    \"\"\"\n",
    "    Iterate over and decompress the compressed string.\n",
    "    This approach makes use of nested Python iterators, which is a very clean way\n",
    "    of expressing expansion of nested iterated items.\n",
    "    Args:\n",
    "        text: The entire string to decompress.  It's unobvious, but nice\n",
    "          to have the whole string plus an index; this allows any error\n",
    "          detection code to report the absolute index of a problematic\n",
    "          character.\n",
    "        start: The starting index within 'text'.  We decompress from\n",
    "          'start' up through the matching close-brace or end-of-string.\n",
    "        times: The number of times to repeat decompression.\n",
    "    \"\"\"\n",
    "    # Repeat iteration over our sub-chunk N times.\n",
    "    for j in range(times):\n",
    "        i = start\n",
    "        # Until we hit the end of the string, or end of our chunk...\n",
    "        while i < len(text) and text[i] != ']':\n",
    "            # Emit letters as themselves.\n",
    "            if text[i].islower():\n",
    "                yield text[i]# If it's not a letter, it must be digit(s).  Convert to integer.\n",
    "            else:\n",
    "                sub_times = 0\n",
    "                while text[i].isdigit():\n",
    "                    sub_times = sub_times * 10 + int(text[i])\n",
    "                    i += 1\n",
    "                i += 1  # Skip past open-bracket\n",
    "                # Start an iterator over the sub-chunk.\n",
    "                for item in decomp(text, i, sub_times):\n",
    "                    # Iterator generates many characters, and then at the very end,\n",
    "                    # it generates an integer.  Provide characters up to our caller,\n",
    "                    # and use the integer to advance our index 'i' to end-of-chunk.\n",
    "                    if isinstance(item, str):\n",
    "                        yield item\n",
    "                    else:\n",
    "                        i = item\n",
    "                # Advance 'i' to the next letter, or skip the close-bracket, whichever.\n",
    "            i += 1\n",
    "    # Don't emit the trailing integer if we are doing the outermost call.  This\n",
    "    # test could be moved to the decompress() call instead; we would check there\n",
    "    # to see if the result item was basestring or int, just as we do above, but\n",
    "    # I suspect that check would be more expensive than a simple integer\n",
    "    # comparison here, where the type is known.\n",
    "    if start > 0:\n",
    "        yield i\n",
    "def decompress(text):\n",
    "    # We could wrap 'text' to add a leading '1[' and trailing ']' to allow a\n",
    "    # little bit of simplification in the logic in decomp(), but the\n",
    "    # simplification would lead to harder-to-read code, as well as requiring\n",
    "    # O(n) additional time, and a temporary requirement for O(n + 3) additional\n",
    "    # space during the copy operation.\n",
    "    #\n",
    "    # This is O(decompressed-length) for speed (probably), and up to\n",
    "    # O(compressed-length/4) for additional storage.  In this implementation,\n",
    "    # the storage requirement is well-disguised: It appears on the function call\n",
    "    # stack, rather than in declared variables.  E.g., consider a worst-case\n",
    "    # input of: 1[1[1[1[1[1[1[1[1[1[1[1[1[1[1[1[1[1[1[1[xx]]]]]]]]]]]]]]]]]]]]\n",
    "    # which would require a stack depth of 20.\n",
    "    #\n",
    "    # The (probably) for the big-O depends on how well Python implements\n",
    "    # resumption of nested iteration.  At worst, the string above would require\n",
    "    # a full stack descent, then ascent for *each* of the two 'x' characters,\n",
    "    # for a total of O(n^2) time.  Another very well-hidden possible cost.\n",
    "    for letter in decomp(text):\n",
    "        print(letter)"
   ]
  },
  {
   "cell_type": "code",
   "execution_count": 41,
   "metadata": {},
   "outputs": [
    {
     "name": "stdout",
     "output_type": "stream",
     "text": [
      "a\n",
      "b\n",
      "c\n",
      "a\n",
      "b\n",
      "c\n",
      "a\n",
      "b\n",
      "c\n",
      "a\n",
      "b\n",
      "a\n",
      "b\n",
      "a\n",
      "b\n",
      "a\n",
      "b\n",
      "c\n"
     ]
    }
   ],
   "source": [
    "decompress('3[abc]4[ab]c')"
   ]
  },
  {
   "cell_type": "markdown",
   "metadata": {},
   "source": [
    "\n",
    "## Openning JSON file\n",
    "\n",
    "Not sure if it goes in this notebook hehe."
   ]
  },
  {
   "cell_type": "code",
   "execution_count": 2,
   "metadata": {},
   "outputs": [
    {
     "ename": "FileNotFoundError",
     "evalue": "[Errno 2] No such file or directory: 'personasdesaparecidas.json'",
     "output_type": "error",
     "traceback": [
      "\u001b[0;31m---------------------------------------------------------------------------\u001b[0m",
      "\u001b[0;31mFileNotFoundError\u001b[0m                         Traceback (most recent call last)",
      "\u001b[0;32m<ipython-input-2-7e60f8074a0a>\u001b[0m in \u001b[0;36m<module>\u001b[0;34m()\u001b[0m\n\u001b[0;32m----> 1\u001b[0;31m \u001b[0;32mwith\u001b[0m \u001b[0mopen\u001b[0m\u001b[0;34m(\u001b[0m\u001b[0;34m'personasdesaparecidas.json'\u001b[0m\u001b[0;34m,\u001b[0m\u001b[0;34m'r'\u001b[0m\u001b[0;34m,\u001b[0m\u001b[0mencoding\u001b[0m\u001b[0;34m=\u001b[0m\u001b[0;34m'utf8'\u001b[0m\u001b[0;34m)\u001b[0m \u001b[0;32mas\u001b[0m \u001b[0mf\u001b[0m\u001b[0;34m:\u001b[0m\u001b[0;34m\u001b[0m\u001b[0m\n\u001b[0m\u001b[1;32m      2\u001b[0m     \u001b[0mdatastore\u001b[0m\u001b[0;34m=\u001b[0m\u001b[0mjson\u001b[0m\u001b[0;34m.\u001b[0m\u001b[0mload\u001b[0m\u001b[0;34m(\u001b[0m\u001b[0mf\u001b[0m\u001b[0;34m)\u001b[0m\u001b[0;34m\u001b[0m\u001b[0m\n",
      "\u001b[0;31mFileNotFoundError\u001b[0m: [Errno 2] No such file or directory: 'personasdesaparecidas.json'"
     ]
    }
   ],
   "source": [
    "with open('personasdesaparecidas.json','r',encoding='utf8') as f:\n",
    "    datastore=json.load(f)"
   ]
  },
  {
   "cell_type": "markdown",
   "metadata": {},
   "source": [
    "## Facebook interview question\n",
    "\n",
    "If I remember well it was about i times printing the product of all list items except the one on i position."
   ]
  },
  {
   "cell_type": "code",
   "execution_count": 62,
   "metadata": {},
   "outputs": [],
   "source": [
    "def prints_products(list_in):\n",
    "    mult=1\n",
    "    num_zeros=0\n",
    "    idx=0\n",
    "    \n",
    "    for i in range(len(list_in)):\n",
    "        if(list_in[i]==0 and num_zeros==0):\n",
    "            idx=i\n",
    "            num_zeros+=1\n",
    "        elif(list_in[i]==0 and num_zeros==1):\n",
    "            num_zeros+=1\n",
    "            break\n",
    "        else:\n",
    "            mult*=list_in[i]\n",
    "    if(num_zeros==1):\n",
    "        for i in range(len(list_in)):\n",
    "            if i==idx:\n",
    "                print(mult)\n",
    "            else:\n",
    "                print('0')\n",
    "    elif(num_zeros>=2):\n",
    "        for i in range(len(list_in)):\n",
    "            print('0')\n",
    "    else:   \n",
    "        for i in range(len(list_in)):\n",
    "            print(mult/list_in[i])"
   ]
  },
  {
   "cell_type": "code",
   "execution_count": 65,
   "metadata": {},
   "outputs": [
    {
     "name": "stdout",
     "output_type": "stream",
     "text": [
      "5670.0\n",
      "810.0\n",
      "1890.0\n",
      "630.0\n",
      "1134.0\n",
      "945.0\n"
     ]
    }
   ],
   "source": [
    "prints_products([1,7,3,9,5,6])"
   ]
  },
  {
   "cell_type": "markdown",
   "metadata": {},
   "source": [
    "## Find longest subsequence of S from a list D.\n",
    "[link](https://techdevguide.withgoogle.com/paths/foundational/find-longest-word-in-dictionary-that-subsequence-of-given-string#!)\n",
    "\n",
    "I tried a good approach through a greedy algorithm however I could easily improve it if I could order D and try the subsequences as they become shorter, the first found is the answer.\n",
    "\n",
    "There are other answers that attempt to look for the appearances of the words and then look from there. Efficient binary search can improve them even more.\n",
    "\n",
    "I copied the snippet code provided however the indents are wrong and its running python2.X I think.\n",
    "\n"
   ]
  },
  {
   "cell_type": "code",
   "execution_count": 110,
   "metadata": {},
   "outputs": [],
   "source": [
    "def longest_subsequence(S,D):\n",
    "    maxi=''\n",
    "    while D:\n",
    "        S2=D.pop()\n",
    "        if is_S2_a_subsequence_of_S(S,S2) and len(maxi)<len(S2):\n",
    "            maxi=S2\n",
    "    return maxi\n",
    "def is_S2_a_subsequence_of_S(S,S2):\n",
    "    j=0\n",
    "    i=0\n",
    "    while i<len(S) and j<len(S2):\n",
    "        if S[i]==S2[j]:\n",
    "            j+=1\n",
    "        i+=1\n",
    "    if j==len(S2):\n",
    "        return True\n",
    "    else:\n",
    "        return False"
   ]
  },
  {
   "cell_type": "code",
   "execution_count": 111,
   "metadata": {},
   "outputs": [
    {
     "ename": "KeyError",
     "evalue": "'pop from an empty set'",
     "output_type": "error",
     "traceback": [
      "\u001b[0;31m---------------------------------------------------------------------------\u001b[0m",
      "\u001b[0;31mKeyError\u001b[0m                                  Traceback (most recent call last)",
      "\u001b[0;32m<ipython-input-111-02590e89ca2d>\u001b[0m in \u001b[0;36m<module>\u001b[0;34m()\u001b[0m\n\u001b[0;32m----> 1\u001b[0;31m \u001b[0mis_S2_a_subsequence_of_S\u001b[0m\u001b[0;34m(\u001b[0m\u001b[0mS\u001b[0m\u001b[0;34m,\u001b[0m\u001b[0mD\u001b[0m\u001b[0;34m.\u001b[0m\u001b[0mpop\u001b[0m\u001b[0;34m(\u001b[0m\u001b[0;34m)\u001b[0m\u001b[0;34m)\u001b[0m\u001b[0;34m\u001b[0m\u001b[0m\n\u001b[0m",
      "\u001b[0;31mKeyError\u001b[0m: 'pop from an empty set'"
     ]
    }
   ],
   "source": [
    "is_S2_a_subsequence_of_S(S,D.pop())"
   ]
  },
  {
   "cell_type": "code",
   "execution_count": 112,
   "metadata": {},
   "outputs": [],
   "source": [
    "S = \"abppplee\"\n",
    "D = {\"able\", \"ale\", \"apple\", \"bale\", \"kangaroo\",\"abppplee\"}"
   ]
  },
  {
   "cell_type": "code",
   "execution_count": 113,
   "metadata": {},
   "outputs": [
    {
     "data": {
      "text/plain": [
       "'abppplee'"
      ]
     },
     "execution_count": 113,
     "metadata": {},
     "output_type": "execute_result"
    }
   ],
   "source": [
    "longest_subsequence(S,D)"
   ]
  },
  {
   "cell_type": "code",
   "execution_count": 128,
   "metadata": {},
   "outputs": [],
   "source": [
    "#!/usr/bin/env python\n",
    "import collections\n",
    "import sys\n",
    "def find_longest_word_in_string(letters, words):\n",
    "    letter_positions = collections.defaultdict(list)\n",
    "    # For each letter in 'letters', collect all the indices at which it appears.\n",
    "    # O(#letters) space and speed.\n",
    "    for index, letter in enumerate(letters):\n",
    "        letter_positions[letter].append(index)\n",
    "    # For words, in descending order by length...\n",
    "    # Bails out early on first matched word, and within word on\n",
    "    # impossible letter/position combinations, but worst case is\n",
    "    # O(#words # avg-len) * O(#letters / 26) time; constant space.\n",
    "    # With some work, could be O(#W * avg-len) * log2(#letters/26)\n",
    "    # But since binary search has more overhead\n",
    "    # than simple iteration, log2(#letters) is about as \n",
    "    # expensive as simple iterations as long as \n",
    "    # the length of the arrays for each letter is\n",
    "    # “small”.  If letters are randomly present in the\n",
    "    # search string, the log2 is about equal in speed to simple traversal\n",
    "    # up to lengths of a few hundred characters.         \n",
    "    for word in sorted(words, key=lambda w: len(w), reverse=True):\n",
    "        pos = 0\n",
    "        for letter in word:\n",
    "            if letter not in letter_positions:\n",
    "                break\n",
    "            # Find any remaining valid positions in search string where this\n",
    "            # letter appears.  It would be better to do this with binary search,\n",
    "            # but this is very Python-ic.\n",
    "            possible_positions = [p for p in letter_positions[letter] if p >= pos]\n",
    "            if not possible_positions:\n",
    "                break\n",
    "            pos = possible_positions[0] + 1\n",
    "                # We didn't break out of the loop, so all letters have valid positions  \n",
    "        else:  \n",
    "            return word\n",
    "            \n",
    "find_longest_word_in_string(S,D)"
   ]
  },
  {
   "cell_type": "code",
   "execution_count": 130,
   "metadata": {},
   "outputs": [
    {
     "data": {
      "text/plain": [
       "'apple'"
      ]
     },
     "execution_count": 130,
     "metadata": {},
     "output_type": "execute_result"
    }
   ],
   "source": [
    "S = \"abppplee\"\n",
    "D = {\"able\", \"ale\", \"apple\", \"bale\", \"kangaroo\"}\n",
    "find_longest_word_in_string(S,D)"
   ]
  },
  {
   "cell_type": "markdown",
   "metadata": {},
   "source": [
    "## Sum nums\n",
    "\n",
    "Is about summing the numbers in a string that can be separated by anything that is not a number. Implemented with regex.\n",
    "\n",
    "```java\n",
    "public int sumNumbers(String str) {\n",
    "  str=str.replaceAll(\"\\\\D+\",\" \");\n",
    "  str = str.replaceAll(\"( )+\", \" \");\n",
    "  String[] arrOfStr = str.split(\" \");\n",
    "  int sum=0;\n",
    "  for (String a : arrOfStr)\n",
    "      if (a!=\"\" && !a.equals(\"\"))\n",
    "      sum+=Integer.parseInt(a);\n",
    "  return sum;\n",
    "}\n",
    "```"
   ]
  },
  {
   "cell_type": "code",
   "execution_count": 420,
   "metadata": {},
   "outputs": [
    {
     "name": "stdout",
     "output_type": "stream",
     "text": [
      "['1234', '234234', '23434', '234234', '43652345', '2345', '3452345']\n",
      "47600171\n"
     ]
    }
   ],
   "source": [
    "import re\n",
    "s='1234 234234 asdfasdf 23434 234234    43652345,2345,3452345'\n",
    "l=re.split('\\D+',s)\n",
    "print(l)\n",
    "nums=[]\n",
    "[nums.append(int(num)) for num in l if num != '']\n",
    "print(sum(nums))\n"
   ]
  },
  {
   "cell_type": "markdown",
   "metadata": {},
   "source": [
    "## Design an explosion mining game.\n",
    "\n",
    "Given $n$, design $n*n$ matrix `terrain`, with $m$ **mines**, $terrain[i,j]$ is the value of adjacent mines of position `[i,j]`.\n",
    "\n",
    "* A **mine** is a list of the form $[i,j]$ where $0 \\geq i,j \\leq n$, `mines` is a list of $m$ **mines** objects.\n",
    "* `terrain[i,j]` is the sum of all mines over a $3*3$ subkernel of terrain centered in $0\\geq$ `[i,j]` $\\leq 9$.\n",
    "* $m \\leq n*n$"
   ]
  },
  {
   "cell_type": "code",
   "execution_count": 301,
   "metadata": {},
   "outputs": [],
   "source": [
    "import numpy as np\n",
    "import random\n",
    "import matplotlib.pyplot as plt\n",
    "from tqdm import tqdm_notebook as tqdm\n",
    "\n"
   ]
  },
  {
   "cell_type": "code",
   "execution_count": 390,
   "metadata": {},
   "outputs": [
    {
     "data": {
      "text/plain": [
       "3600"
      ]
     },
     "execution_count": 390,
     "metadata": {},
     "output_type": "execute_result"
    }
   ],
   "source": [
    "60*60"
   ]
  },
  {
   "cell_type": "code",
   "execution_count": 408,
   "metadata": {},
   "outputs": [
    {
     "data": {
      "application/vnd.jupyter.widget-view+json": {
       "model_id": "2d3143b31fac49ab8565fcbb72c2723d",
       "version_major": 2,
       "version_minor": 0
      },
      "text/plain": [
       "HBox(children=(IntProgress(value=0, max=3600), HTML(value='')))"
      ]
     },
     "metadata": {},
     "output_type": "display_data"
    }
   ],
   "source": [
    "N=60\n",
    "terrain=np.zeros((N+20,N+20))\n",
    "remaining_mines = 1000\n",
    "remaining_cells = N*N\n",
    "mines=[]\n",
    "frames=[]\n",
    "fig,ax=plt.subplots(figsize=(5,5))\n",
    "for k in tqdm(range(0, N*N)):\n",
    "    chance = float(remaining_mines) / remaining_cells\n",
    "    if random.uniform(0., 1.) < chance: \n",
    "        i,j=np.unravel_index(k,(N,N))\n",
    "        mine=[i+10,j+10]\n",
    "        mines.append(mine)\n",
    "        terrain[mine[0]-1:mine[0]+2,mine[1]-1:mine[1]+2]=terrain[mine[0]-1:mine[0]+2,mine[1]-1:mine[1]+2]+1\n",
    "        remaining_mines -= 1 \n",
    "        if (len(mines)%10==0):\n",
    "                ax.imshow(terrain.T,cmap='magma',aspect='auto')\n",
    "                ax.axis('off')\n",
    "                fig.canvas.draw()       # draw the canvas, cache the renderer\n",
    "                image = np.frombuffer(fig.canvas.tostring_rgb(), dtype='uint8')\n",
    "                image  = image.reshape(fig.canvas.get_width_height()[::-1] + (3,))\n",
    "                frames.append(image)\n",
    "                plt.close()\n",
    "\n",
    "    remaining_cells -= 1\n",
    "imageio.mimsave('minas.gif', frames)"
   ]
  },
  {
   "cell_type": "code",
   "execution_count": 318,
   "metadata": {},
   "outputs": [
    {
     "data": {
      "application/vnd.jupyter.widget-view+json": {
       "model_id": "d8aef507cd724f25a45f4e22515a4497",
       "version_major": 2,
       "version_minor": 0
      },
      "text/plain": [
       "HBox(children=(IntProgress(value=0, max=2000), HTML(value='')))"
      ]
     },
     "metadata": {},
     "output_type": "display_data"
    },
    {
     "name": "stdout",
     "output_type": "stream",
     "text": [
      "\n"
     ]
    }
   ],
   "source": [
    "n=100\n",
    "m=2000\n",
    "mines=[]\n",
    "terrain=np.zeros((n+20,n+20))\n",
    "frames=[]\n",
    "\n",
    "fig,ax=plt.subplots(figsize=(5,5))\n",
    "pbar = tqdm(total=m)\n",
    "while (len(mines)<m):\n",
    "    mine=random.sample(range(10, n+10),2)\n",
    "    if mine not in mines:\n",
    "        terrain[mine[0]-5:mine[0]+6,mine[1]-5:mine[1]+6]=terrain[mine[0]-5:mine[0]+6,mine[1]-5:mine[1]+6]+1\n",
    "        mines.append(mine)\n",
    "        if (len(mines)%10==0):\n",
    "            ax.imshow(terrain.T,cmap='magma')\n",
    "            ax.axis('off')\n",
    "            fig.tight_layout()\n",
    "            fig.canvas.draw()       # draw the canvas, cache the renderer\n",
    "            image = np.frombuffer(fig.canvas.tostring_rgb(), dtype='uint8')\n",
    "            image  = image.reshape(fig.canvas.get_width_height()[::-1] + (3,))\n",
    "            frames.append(image)\n",
    "            plt.close()\n",
    "            pbar.update(10)\n",
    "imageio.mimsave('minas.gif', frames)"
   ]
  },
  {
   "cell_type": "code",
   "execution_count": 417,
   "metadata": {
    "scrolled": false
   },
   "outputs": [
    {
     "data": {
      "image/png": "[encoded data removed]",
      "text/plain": [
       "<Figure size 720x720 with 1 Axes>"
      ]
     },
     "metadata": {
      "needs_background": "light"
     },
     "output_type": "display_data"
    }
   ],
   "source": [
    "cmap = plt.get_cmap('magma')\n",
    "rgba_img = (cmap(terrain / np.max(terrain)) * 255).astype(np.uint8)\n",
    "\n",
    "# Set alpha channel to 0 for all 0 values in terrain\n",
    "rgba_img[:, :, 3] = (terrain > 0) * 255\n",
    "\n",
    "# Output with transparency\n",
    "plt.figure(0, figsize=(10, 10))\n",
    "plt.imshow(rgba_img)\n",
    "plt.axis('off')\n",
    "plt.tight_layout()\n",
    "plt.savefig('output.png', transparent=True)\n"
   ]
  },
  {
   "cell_type": "markdown",
   "metadata": {},
   "source": [
    "### Print the span of the longest inclusive array that has the same values at its borders."
   ]
  },
  {
   "cell_type": "code",
   "execution_count": null,
   "metadata": {},
   "outputs": [],
   "source": [
    "def maxSpan(arr):\n",
    "    maxi=0\n",
    "    for i,num1 in enumerate(arr ):\n",
    "         for j,num2 in enumerate(arr[i:]):\n",
    "                if num1==num2 and j+1>maxi:\n",
    "                    maxi=j+1\n",
    "    return maxi"
   ]
  },
  {
   "cell_type": "code",
   "execution_count": null,
   "metadata": {},
   "outputs": [],
   "source": [
    "arr=[1, 2, 1, 1, 3]\n",
    "maxi=0\n",
    "for i,num1 in enumerate(arr):\n",
    "     for j,num2 in enumerate(arr[i:]):\n",
    "            if num1==num2 and j>=maxi:\n",
    "                maxi=j+1\n",
    "print (maxi)"
   ]
  },
  {
   "cell_type": "markdown",
   "metadata": {},
   "source": [
    "## Map a values to b and erase c\n",
    "\n",
    "``` p\n",
    "mapShare({\"a\": \"aaa\", \"b\": \"bbb\", \"c\": \"ccc\"}) → {\"a\": \"aaa\", \"b\": \"aaa\"}\n",
    "\n",
    "mapShare({\"b\": \"xyz\", \"c\": \"ccc\"}) → {\"b\": \"xyz\"}\n",
    "\n",
    "mapShare({\"a\": \"aaa\", \"c\": \"meh\", \"d\": \"hi\"}) → {\"a\": \"aaa\", \"b\": \"aaa\", \"d\": \"hi\"}\n",
    "```"
   ]
  },
  {
   "cell_type": "code",
   "execution_count": 421,
   "metadata": {},
   "outputs": [],
   "source": [
    "def mapShare(dic):\n",
    "    if dic.get(\"a\"):\n",
    "        dic[\"b\"]=dic.get(\"a\")\n",
    "    dic.pop(\"c\")\n",
    "    return dic"
   ]
  },
  {
   "cell_type": "code",
   "execution_count": 422,
   "metadata": {},
   "outputs": [
    {
     "data": {
      "text/plain": [
       "{'a': 'aaa', 'b': 'aaa'}"
      ]
     },
     "execution_count": 422,
     "metadata": {},
     "output_type": "execute_result"
    }
   ],
   "source": [
    "mapShare({\"a\": \"aaa\", \"b\": \"bbb\", \"c\": \"ccc\"}) "
   ]
  }
 ],
 "metadata": {
  "kernelspec": {
   "display_name": "Python 3",
   "language": "python",
   "name": "python3"
  },
  "language_info": {
   "codemirror_mode": {
    "name": "ipython",
    "version": 3
   },
   "file_extension": ".py",
   "mimetype": "text/x-python",
   "name": "python",
   "nbconvert_exporter": "python",
   "pygments_lexer": "ipython3",
   "version": "3.7.0"
  }
 },
 "nbformat": 4,
 "nbformat_minor": 2
}
